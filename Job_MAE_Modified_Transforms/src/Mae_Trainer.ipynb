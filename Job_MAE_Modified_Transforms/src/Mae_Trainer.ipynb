{
 "cells": [
  {
   "cell_type": "code",
   "execution_count": 6,
   "metadata": {},
   "outputs": [],
   "source": [
    "from azure.ai.ml.entities import CustomApplications, ImageSettings, EndpointsSettings, VolumeSettings, ComputeInstance"
   ]
  },
  {
   "cell_type": "code",
   "execution_count": 2,
   "metadata": {},
   "outputs": [],
   "source": [
    "image = ImageSettings(reference=\"23317781110c4faf976319f2fd34b6cf.azurecr.io/azureml/azureml_0dcd5d0333d37e8a8fa3c59d76567e7e@latest\")"
   ]
  },
  {
   "cell_type": "code",
   "execution_count": 4,
   "metadata": {},
   "outputs": [],
   "source": [
    "kernel = {\"argv\" : [\"python\", \"-m\", \"ipykernel_launcher\", \"-f\", \"{connection_file}\"],\n",
    "          \"display_name\" : \"minizilla\", \n",
    "          \"language\" : \"python\"}"
   ]
  },
  {
   "cell_type": "code",
   "execution_count": 5,
   "metadata": {},
   "outputs": [],
   "source": [
    "app = CustomApplications(name=\"minizilla\",endpoints=[], bind_mounts=[], image=image, kernel=kernel, environment_variables={})"
   ]
  },
  {
   "cell_type": "code",
   "execution_count": 11,
   "metadata": {},
   "outputs": [],
   "source": [
    "ci_basic = ComputeInstance(name=\"minizilla-ci\", size=\"STANDARD_NC6S_V3\", custom_applications=[app])"
   ]
  },
  {
   "cell_type": "code",
   "execution_count": 8,
   "metadata": {},
   "outputs": [],
   "source": [
    "from azure.ai.ml import MLClient\n",
    "from azure.identity import DefaultAzureCredential\n",
    "from azure.ai.ml.entities import Data\n",
    "from azure.ai.ml.constants import AssetTypes\n",
    "\n",
    "\n",
    "\n",
    "# authenticate\n",
    "credential = DefaultAzureCredential()\n",
    "# # Get a handle to the workspace\n",
    "ml_client = MLClient(\n",
    "    credential=credential,\n",
    "    subscription_id=\"781b03e7-6eb7-4506-bab8-cf3a0d89b1d4\",\n",
    "    resource_group_name=\"antonslutsky-rg\",\n",
    "    workspace_name=\"gpu-workspace\",\n",
    ")"
   ]
  },
  {
   "cell_type": "code",
   "execution_count": 12,
   "metadata": {},
   "outputs": [
    {
     "data": {
      "text/plain": [
       "ComputeInstance({'state': 'Running', 'last_operation': {'operation_name': 'Create', 'operation_time': '2023-12-06T18:16:42.893Z', 'operation_status': 'Succeeded', 'operation_trigger': 'User'}, 'os_image_metadata': <azure.ai.ml.entities._compute._image_metadata.ImageMetadata object at 0x000001394776BA90>, 'services': [{'display_name': 'Jupyter', 'endpoint_uri': 'https://minizilla-ci.northeurope.instances.azureml.ms/tree/'}, {'display_name': 'Jupyter Lab', 'endpoint_uri': 'https://minizilla-ci.northeurope.instances.azureml.ms/lab'}], 'type': 'computeinstance', 'created_on': None, 'provisioning_state': 'Succeeded', 'provisioning_errors': None, 'name': 'minizilla-ci', 'description': None, 'tags': None, 'properties': {}, 'print_as_yaml': True, 'id': '/subscriptions/781b03e7-6eb7-4506-bab8-cf3a0d89b1d4/resourceGroups/antonslutsky-rg/providers/Microsoft.MachineLearningServices/workspaces/gpu-workspace/computes/minizilla-ci', 'Resource__source_path': None, 'base_path': 'c:\\\\Users\\\\antonslutsky\\\\Dev\\\\aml-examples\\\\Job_MAE_Modified_Transforms\\\\src', 'creation_context': None, 'serialize': <msrest.serialization.Serializer object at 0x0000013947779A50>, 'resource_id': None, 'location': 'northeurope', 'size': 'STANDARD_NC6S_V3', 'ssh_public_access_enabled': False, 'create_on_behalf_of': None, 'network_settings': <azure.ai.ml.entities._compute.compute.NetworkSettings object at 0x00000139477683D0>, 'ssh_settings': <azure.ai.ml.entities._compute.compute_instance.ComputeInstanceSshSettings object at 0x0000013945A38210>, 'schedules': None, 'identity': None, 'idle_time_before_shutdown': None, 'idle_time_before_shutdown_minutes': None, 'setup_scripts': None, 'enable_node_public_ip': True, 'custom_applications': [<azure.ai.ml.entities._compute._custom_applications.CustomApplications object at 0x0000013947768E50>], 'subnet': None})"
      ]
     },
     "execution_count": 12,
     "metadata": {},
     "output_type": "execute_result"
    }
   ],
   "source": [
    "ml_client.begin_create_or_update(ci_basic).result()"
   ]
  }
 ],
 "metadata": {
  "kernelspec": {
   "display_name": "Python 3",
   "language": "python",
   "name": "python3"
  },
  "language_info": {
   "codemirror_mode": {
    "name": "ipython",
    "version": 3
   },
   "file_extension": ".py",
   "mimetype": "text/x-python",
   "name": "python",
   "nbconvert_exporter": "python",
   "pygments_lexer": "ipython3",
   "version": "3.11.5"
  }
 },
 "nbformat": 4,
 "nbformat_minor": 2
}
