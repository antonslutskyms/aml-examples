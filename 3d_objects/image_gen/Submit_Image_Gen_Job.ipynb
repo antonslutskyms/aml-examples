{
 "cells": [
  {
   "cell_type": "code",
   "execution_count": null,
   "id": "3db2b657",
   "metadata": {},
   "outputs": [],
   "source": [
    "!az configure --defaults workspace=gpu-workspace-westus2 group=antonslutsky-rg"
   ]
  },
  {
   "cell_type": "code",
   "execution_count": null,
   "id": "880c8b77",
   "metadata": {},
   "outputs": [],
   "source": [
    "%%writefile image_gen_job.yaml\n",
    "$schema: https://azuremlschemas.azureedge.net/latest/commandJob.schema.json\n",
    "code: ./src\n",
    "command: >-\n",
    "   python ./generate_image.py \"${{inputs.prompt}}\" ${{outputs.output_image}} \n",
    "environment_variables:\n",
    "  AZURE_OPENAI_API_KEY: \"8ee14bc50a6c4fe1a44f961ebcbfdcbf\"\n",
    "  AZURE_OPENAI_ENDPOINT: \"https://ai-antonslutskyai2247982896338.openai.azure.com/\"\n",
    "inputs:\n",
    "  prompt: \n",
    "    type: uri_file\n",
    "    mode: ro_mount\n",
    "    path: azureml:azureml_mighty_truck_h9792qv7px_output_data_output_idea:1\n",
    "outputs:\n",
    "  output_image:\n",
    "    type: uri_file\n",
    "    mode: rw_mount\n",
    "services:\n",
    "    my_vs_code:\n",
    "      type: vs_code\n",
    "      nodes: all \n",
    "    my_jupyter_lab:\n",
    "      type: jupyter_lab\n",
    "      nodes: all\n",
    "environment: azureml://registries/azureml/environments/ai-studio-dev/versions/9\n",
    "compute: azureml:cpu-cluster\n",
    "experiment_name: 3d_object_inference\n",
    "display_name: image_gen_job\n",
    "description: image_gen_job\n"
   ]
  },
  {
   "cell_type": "code",
   "execution_count": null,
   "id": "440350d3",
   "metadata": {},
   "outputs": [],
   "source": [
    "!az ml job create -f image_gen_job.yaml"
   ]
  },
  {
   "cell_type": "code",
   "execution_count": 41,
   "id": "c2791f35",
   "metadata": {},
   "outputs": [
    {
     "name": "stdout",
     "output_type": "stream",
     "text": [
      "Overwriting image_gen_component.yaml\n"
     ]
    }
   ],
   "source": [
    "%%writefile image_gen_component.yaml\n",
    "$schema: https://azuremlschemas.azureedge.net/latest/component.schema.json\n",
    "name: image_gen_component\n",
    "code: ./src\n",
    "command: >-\n",
    "   python ./generate_image.py \"${{inputs.prompt}}\" ${{outputs.output_images}} \"${{inputs.sys_prompt}}\" \n",
    "environment_variables:\n",
    "  AZURE_OPENAI_API_KEY: \"8ee14bc50a6c4fe1a44f961ebcbfdcbf\"\n",
    "  AZURE_OPENAI_ENDPOINT: \"https://ai-antonslutskyai2247982896338.openai.azure.com/\"\n",
    "inputs:\n",
    "  sys_prompt: \n",
    "    type: string\n",
    "  prompt: \n",
    "    type: uri_file\n",
    "    mode: ro_mount\n",
    "outputs:\n",
    "  output_images:\n",
    "    type: uri_folder\n",
    "    mode: rw_mount\n",
    "services:\n",
    "    my_vs_code:\n",
    "      type: vs_code\n",
    "      nodes: all \n",
    "    my_jupyter_lab:\n",
    "      type: jupyter_lab\n",
    "      nodes: all\n",
    "environment: azureml://registries/azureml/environments/ai-studio-dev/versions/9\n",
    "compute: azureml:cpu-cluster\n",
    "experiment_name: 3d_object_inference\n",
    "display_name: image_gen_job\n",
    "description: image_gen_job"
   ]
  },
  {
   "cell_type": "code",
   "execution_count": 42,
   "id": "d133cc26",
   "metadata": {},
   "outputs": [
    {
     "name": "stdout",
     "output_type": "stream",
     "text": [
      "{\n",
      "  \"$schema\": \"https://azuremlschemas.azureedge.net/latest/component.schema.json\",\n",
      "  \"code\": \"azureml:/subscriptions/781b03e7-6eb7-4506-bab8-cf3a0d89b1d4/resourceGroups/antonslutsky-rg/providers/Microsoft.MachineLearningServices/workspaces/gpu-workspace-westus2/codes/11d7eaff-77f7-4e82-97cb-7cce7f522879/versions/1\",\n",
      "  \"command\": \"python ./generate_image.py \\\"${{inputs.prompt}}\\\" ${{outputs.output_images}} \\\"${{inputs.sys_prompt}}\\\" \",\n",
      "  \"creation_context\": {\n",
      "    \"created_at\": \"2025-05-03T20:51:05.667314+00:00\",\n",
      "    \"created_by\": \"Anton Slutsky\",\n",
      "    \"created_by_type\": \"User\",\n",
      "    \"last_modified_at\": \"2025-05-03T20:51:05.728831+00:00\",\n",
      "    \"last_modified_by\": \"Anton Slutsky\",\n",
      "    \"last_modified_by_type\": \"User\"\n",
      "  },\n",
      "  \"description\": \"image_gen_job\",\n",
      "  \"display_name\": \"image_gen_job\",\n",
      "  \"environment\": \"azureml://registries/azureml/environments/ai-studio-dev/versions/9\",\n",
      "  \"id\": \"azureml:/subscriptions/781b03e7-6eb7-4506-bab8-cf3a0d89b1d4/resourceGroups/antonslutsky-rg/providers/Microsoft.MachineLearningServices/workspaces/gpu-workspace-westus2/components/image_gen_component/versions/2025-05-03-20-51-04-1261627\",\n",
      "  \"inputs\": {\n",
      "    \"prompt\": {\n",
      "      \"optional\": false,\n",
      "      \"type\": \"uri_file\"\n",
      "    },\n",
      "    \"sys_prompt\": {\n",
      "      \"optional\": false,\n",
      "      \"type\": \"string\"\n",
      "    }\n",
      "  },\n",
      "  \"is_deterministic\": true,\n",
      "  \"name\": \"image_gen_component\",\n",
      "  \"outputs\": {\n",
      "    \"output_images\": {\n",
      "      \"type\": \"uri_folder\"\n",
      "    }\n",
      "  },\n",
      "  \"resourceGroup\": \"antonslutsky-rg\",\n",
      "  \"resources\": {\n",
      "    \"instance_count\": 1\n",
      "  },\n",
      "  \"type\": \"command\",\n",
      "  \"version\": \"2025-05-03-20-51-04-1261627\"\n",
      "}\n"
     ]
    },
    {
     "name": "stderr",
     "output_type": "stream",
     "text": [
      "\n",
      "Uploading src (0.0 MBs):   0%|          | 0/1720 [00:00<?, ?it/s]\n",
      "Uploading src (0.0 MBs): 100%|##########| 1720/1720 [00:00<00:00, 20866.88it/s]\n",
      "\n",
      "\n"
     ]
    }
   ],
   "source": [
    "!az ml component create -f image_gen_component.yaml"
   ]
  },
  {
   "cell_type": "code",
   "execution_count": null,
   "id": "f9cf0881",
   "metadata": {},
   "outputs": [],
   "source": [
    "!az ml workspace update --name gpu-workspace-westus2 --resource-group antonslutsky-rg --image-build-compute \"Serverless\""
   ]
  },
  {
   "cell_type": "code",
   "execution_count": null,
   "id": "32728f1a",
   "metadata": {},
   "outputs": [],
   "source": [
    "\n",
    "!pip install aspose-3d"
   ]
  },
  {
   "cell_type": "code",
   "execution_count": null,
   "id": "fd35a5fc",
   "metadata": {},
   "outputs": [],
   "source": [
    "import aspose.threed as a3d\n",
    "\n",
    "glb_path = \"C:\\\\Users\\\\antonslutsky\\\\Downloads\\\\sample (6).glb\"\n",
    "\n",
    "scene = a3d.Scene.from_file(glb_path)\n",
    "scene.save(\"Output.stl\")"
   ]
  }
 ],
 "metadata": {
  "kernelspec": {
   "display_name": "many_models",
   "language": "python",
   "name": "python3"
  },
  "language_info": {
   "codemirror_mode": {
    "name": "ipython",
    "version": 3
   },
   "file_extension": ".py",
   "mimetype": "text/x-python",
   "name": "python",
   "nbconvert_exporter": "python",
   "pygments_lexer": "ipython3",
   "version": "3.7.6"
  }
 },
 "nbformat": 4,
 "nbformat_minor": 5
}
