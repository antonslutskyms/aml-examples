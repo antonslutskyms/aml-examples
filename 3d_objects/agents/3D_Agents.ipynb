{
 "cells": [
  {
   "cell_type": "code",
   "execution_count": null,
   "id": "ff2aa9dc",
   "metadata": {},
   "outputs": [],
   "source": [
    "from semantic_kernel import __version__\n",
    "import os\n",
    "from dotenv import load_dotenv\n",
    "# Load environment variables from the .env file\n",
    "load_dotenv()\n",
    "\n",
    "__version__"
   ]
  },
  {
   "cell_type": "code",
   "execution_count": null,
   "id": "156a2471",
   "metadata": {},
   "outputs": [],
   "source": [
    "from datetime import datetime\n",
    "import os\n",
    "now = datetime.now()\n",
    "output_dir = f\"./output/{now.strftime('%Y_%m_%d_%H_%M_%S')}\"\n",
    "os.makedirs(output_dir, exist_ok=True)"
   ]
  },
  {
   "cell_type": "code",
   "execution_count": null,
   "id": "17bcee4a",
   "metadata": {},
   "outputs": [],
   "source": [
    "from semantic_kernel import Kernel\n",
    "\n",
    "kernel = Kernel()"
   ]
  },
  {
   "cell_type": "code",
   "execution_count": null,
   "id": "eac81c9a",
   "metadata": {},
   "outputs": [],
   "source": [
    "from services import Service\n",
    "\n",
    "from service_settings import ServiceSettings\n",
    "\n",
    "service_settings = ServiceSettings()\n",
    "\n",
    "# Select a service to use for this notebook (available services: OpenAI, AzureOpenAI, HuggingFace)\n",
    "selectedService = (\n",
    "    Service.AzureOpenAI\n",
    "    if service_settings.global_llm_service is None\n",
    "    else Service(service_settings.global_llm_service.lower())\n",
    ")\n",
    "print(f\"Using service type: {selectedService}\")"
   ]
  },
  {
   "cell_type": "code",
   "execution_count": null,
   "id": "6561f7a7",
   "metadata": {},
   "outputs": [],
   "source": [
    "from openai import AsyncAzureOpenAI\n",
    "from image_gen_text_to_image import ImageGenTextToImage\n",
    "\n",
    "image_client = AsyncAzureOpenAI(\n",
    "    azure_endpoint=os.getenv(\"AZURE_IMAGE_GEN_ENDPOINT\"),\n",
    "    api_key=os.getenv(\"AZURE_IMAGE_GEN_API_KEY\"),\n",
    "    api_version=os.getenv(\"AZURE_IMAGE_GEN_API_VERSION\"),\n",
    ")   \n",
    "\n",
    "# Remove all services so that this cell can be re-run without restarting the kernel\n",
    "kernel.remove_all_services()\n",
    "\n",
    "service_id = None\n",
    "if selectedService == Service.OpenAI:\n",
    "    from semantic_kernel.connectors.ai.open_ai import OpenAIChatCompletion\n",
    "\n",
    "    service_id = \"default\"\n",
    "    kernel.add_service(\n",
    "        OpenAIChatCompletion(\n",
    "            service_id=service_id,\n",
    "        ),\n",
    "    )\n",
    "elif selectedService == Service.AzureOpenAI:\n",
    "    from semantic_kernel.connectors.ai.open_ai import AzureChatCompletion\n",
    "\n",
    "    service_id = \"default\"\n",
    "    kernel.add_service(\n",
    "        AzureChatCompletion(\n",
    "            service_id=service_id,\n",
    "        ),\n",
    "    )\n",
    "\n",
    "    from semantic_kernel.connectors.ai.open_ai import OpenAITextToImage \n",
    "\n",
    "    image_gen_service = ImageGenTextToImage (\n",
    "        async_client=image_client,\n",
    "        ai_model_id=\"gpt-image-1\",\n",
    "        service_id=\"gpt-image-1\", # Optional; for targeting specific services within Semantic Kernel\n",
    "    )\n",
    "    kernel.add_service(image_gen_service)"
   ]
  },
  {
   "cell_type": "code",
   "execution_count": null,
   "id": "d06683a9",
   "metadata": {},
   "outputs": [],
   "source": [
    "plugin = kernel.add_plugin(parent_directory=\".\", plugin_name=\"IdeaGenPlugin\")"
   ]
  },
  {
   "cell_type": "code",
   "execution_count": null,
   "id": "99f1f0b9",
   "metadata": {},
   "outputs": [],
   "source": [
    "import base64\n",
    "\n",
    "# Function to convert a file to Base64\n",
    "def file_to_base64(file_path):\n",
    "    with open(file_path, \"rb\") as file:\n",
    "        # Read the file in binary mode and encode it to Base64\n",
    "        base64_encoded = base64.b64encode(file.read()).decode(\"utf-8\")\n",
    "    return base64_encoded\n",
    "\n",
    "# Example usage\n",
    "file_path = \"image.png\"  # Replace with your file path\n",
    "base64_string = file_to_base64(file_path)\n"
   ]
  },
  {
   "cell_type": "code",
   "execution_count": null,
   "id": "5aafbb99",
   "metadata": {},
   "outputs": [],
   "source": [
    "image_gen_service = kernel.get_service(service_id=\"gpt-image-1\")"
   ]
  },
  {
   "cell_type": "markdown",
   "id": "28cc3ed7",
   "metadata": {},
   "source": [
    "### Generate the Idea"
   ]
  },
  {
   "cell_type": "code",
   "execution_count": null,
   "id": "ec181adc",
   "metadata": {},
   "outputs": [],
   "source": [
    "from semantic_kernel.connectors.ai.open_ai import OpenAIChatPromptExecutionSettings\n",
    "from semantic_kernel.contents.chat_history import ChatHistory\n",
    "from semantic_kernel.contents import ChatMessageContent, TextContent, ImageContent\n",
    "from semantic_kernel.contents.utils.author_role import AuthorRole\n",
    "import time\n",
    "\n",
    "seed = int(time.time())\n",
    "print(f\"Seed: {seed}\")\n",
    "execution_settings = OpenAIChatPromptExecutionSettings(seed=seed)\n",
    "\n",
    "text_gen_service = kernel.get_service(service_id=\"default\")\n",
    "\n",
    "chat_history = ChatHistory()\n",
    "\n",
    "input = \"animal\"\n",
    "\n",
    "chat_history.add_message(ChatMessageContent(\n",
    "        role=AuthorRole.USER,\n",
    "        items=[\n",
    "            TextContent(text=f\"\"\"GENERATE A ONE-SENTENCE IDEA FOR A PRODUCT THAT CAN BE 3D PRINTED BY A RASIN 3D PRINTER.  \n",
    "            IT SHOULD BE A USEFUL PRODUCT LIKE A TOOTHBRUSH HOLDER OR A HOOD ORNAMENT.  IT SHOULD BE FUNNY, CREATIVE AND WIMSICAL.\n",
    "\n",
    "BE CREATIVE AND FUNNY. I WANT TO LAUGH.\n",
    "Incorporate the style suggestion, if provided: {{$style}}\n",
    "+++++\n",
    "\n",
    "{input}\n",
    "+++++\n",
    "                                \"\"\"),\n",
    "#            ImageContent(uri=f\"data:image/png;base64,{file_to_base64('./image.png')}\")\n",
    "       ]\n",
    "    ))\n",
    "\n",
    "# Get the chat completion response\n",
    "idea = await text_gen_service.get_chat_message_content(\n",
    "    chat_history=chat_history,\n",
    "    settings=execution_settings,\n",
    ")\n",
    "\n",
    "idea = str(idea)\n",
    "print(idea)"
   ]
  },
  {
   "cell_type": "markdown",
   "id": "1384b880",
   "metadata": {},
   "source": [
    "### Generate Base Image"
   ]
  },
  {
   "cell_type": "code",
   "execution_count": null,
   "id": "2844c8b2",
   "metadata": {},
   "outputs": [],
   "source": [
    "print_idea = f\"\"\"Generate a photo of a plastic 3D-printed object based on the following idea: {idea}\n",
    "The photo should be in a realistic style, with a white background and no text.\n",
    "The object should be the only thing in the image, and it should be centered in the frame.\n",
    "The object should be a 3D-printable object, and it should be in a realistic style.\n",
    "The image must not be a drawing, painting, or cartoon.\n",
    "\"\"\"\n",
    "\n",
    "image = await image_gen_service.generate_image(\n",
    "        description=print_idea, width=1024, height=1024, quality=\"auto\"\n",
    "    )\n",
    "\n",
    "image_data = base64.b64decode(image)\n",
    "\n",
    "\n",
    "base_image_path = f\"{output_dir}/image.png\"\n",
    "with open(base_image_path, \"wb\") as image_file:\n",
    "    image_file.write(image_data)\n"
   ]
  },
  {
   "cell_type": "code",
   "execution_count": null,
   "id": "4cfb0501",
   "metadata": {},
   "outputs": [],
   "source": [
    "from IPython.display import Image\n",
    "Image(filename=base_image_path, width=300)"
   ]
  },
  {
   "cell_type": "markdown",
   "id": "31295424",
   "metadata": {},
   "source": [
    "### Evaluate the image"
   ]
  },
  {
   "cell_type": "code",
   "execution_count": null,
   "id": "464a426b",
   "metadata": {},
   "outputs": [],
   "source": [
    "from semantic_kernel.connectors.ai.open_ai import OpenAIChatPromptExecutionSettings\n",
    "from semantic_kernel.contents.chat_history import ChatHistory\n",
    "from semantic_kernel.contents import ChatMessageContent, TextContent, ImageContent\n",
    "from semantic_kernel.contents.utils.author_role import AuthorRole\n",
    "\n",
    "execution_settings = OpenAIChatPromptExecutionSettings()\n",
    "\n",
    "text_gen_service = kernel.get_service(service_id=\"default\")\n",
    "\n",
    "chat_history = ChatHistory()\n",
    "\n",
    "base64_string = file_to_base64(f\"./{output_dir}/image.png\")\n",
    "\n",
    "# prompt = \"\"\"Evaluate the following image from the point of view of marketability and ease of 3D printing.  \n",
    "#                                 Make a one-sentense improvement suggestion.\n",
    "#                                 Only respond with the suggestion.  Do not explain the reasons for the suggestion.\n",
    "#                                 \"\"\"\n",
    "\n",
    "prompt = f\"\"\"I'm preparing this image for a 3D printing project. What objects should be removed from the image to make it more suitable for 3D printing?\"\"\" \n",
    "\n",
    "chat_history.add_message(ChatMessageContent(\n",
    "        role=AuthorRole.USER,\n",
    "        items=[\n",
    "            TextContent(text=prompt),\n",
    "            ImageContent(uri=f\"data:image/png;base64,{base64_string}\")\n",
    "        ]\n",
    "    ))\n",
    "\n",
    "# Get the chat completion response\n",
    "eval_response = await text_gen_service.get_chat_message_content(\n",
    "    chat_history=chat_history,\n",
    "    settings=execution_settings,\n",
    ")\n",
    "\n",
    "eval_response = str(eval_response)\n",
    "print(eval_response)"
   ]
  },
  {
   "cell_type": "markdown",
   "id": "7ace8c50",
   "metadata": {},
   "source": [
    "### Update the Image"
   ]
  },
  {
   "cell_type": "code",
   "execution_count": null,
   "id": "5106d5d2",
   "metadata": {},
   "outputs": [],
   "source": [
    "import requests\n",
    "\n",
    "def edit_image(image, mask, prompt):\n",
    "    url = f\"{os.getenv('AZURE_IMAGE_GEN_ENDPOINT')}/openai/deployments/{os.getenv('AZURE_IMAGE_GEN_DEPLOYMENT_NAME')}/images/edits?api-version={os.getenv('AZURE_IMAGE_GEN_API_VERSION')}\"\n",
    "\n",
    "    headers = {\n",
    "        \"Authorization\": f\"Bearer {os.getenv('AZURE_IMAGE_GEN_API_KEY')}\"\n",
    "    }\n",
    "\n",
    "    files = {\n",
    "        'image': ('image.png', image),\n",
    "        'mask': ('image.png', mask),\n",
    "    }\n",
    "    \n",
    "    \n",
    "    data = {\n",
    "        \"prompt\": prompt\n",
    "    }\n",
    "\n",
    "    response = requests.post(url, data=data, files=files, headers=headers)\n",
    "\n",
    "    print(\"Status Code:\", response.status_code)\n",
    "    with open(\"response.json\", \"w\") as f:\n",
    "        f.write(response.text)\n",
    "\n",
    "    response_js = response.json()\n",
    "    return response_js[\"data\"][0][\"b64_json\"]\n",
    "\n",
    "\n",
    "\n",
    "image_base_64 = edit_image(open(f\"{output_dir}/image.png\", \"rb\").read(), open(\"mask2.png\", \"rb\").read(), eval_response)  \n",
    "\n",
    "\n",
    "image_data = base64.b64decode(image_base_64)\n",
    "\n",
    "\n",
    "iter_image_path = f\"{output_dir}/image2.png\"\n",
    "with open(iter_image_path, \"wb\") as image_file:\n",
    "    image_file.write(image_data)\n",
    "\n",
    "#img = Image.open(image_path)  # nosec\n",
    "#img.show()\n"
   ]
  },
  {
   "cell_type": "markdown",
   "id": "e90fb799",
   "metadata": {},
   "source": [
    "### Prelim. Results"
   ]
  },
  {
   "cell_type": "code",
   "execution_count": null,
   "id": "99b396bb",
   "metadata": {},
   "outputs": [],
   "source": [
    "Image(filename=iter_image_path, width=300)"
   ]
  },
  {
   "cell_type": "markdown",
   "id": "d9a28903",
   "metadata": {},
   "source": [
    "## Generate Marketing Material"
   ]
  },
  {
   "cell_type": "code",
   "execution_count": null,
   "id": "94d996fc",
   "metadata": {},
   "outputs": [],
   "source": [
    "marketing1 = \"Place this object on\"\n",
    "\n",
    "marks = [\"a business desk\", \"a kitchen table\", \"a bathroom counter\", \"a living room table\", \"a coffee table\", \"a dining room table\", \"a shelf\", \"a bookcase\", \"a nightstand\", \"a dresser\"]\n",
    "\n",
    "i = -1\n",
    "for mark in marks:\n",
    "    i += 1\n",
    "    m_image_path = f\"{output_dir}/image2_{i}.png\"\n",
    "    if os.path.exists(m_image_path):\n",
    "        print(f\"File {m_image_path} already exists. Skipping...\")\n",
    "        continue\n",
    "    prompt = f\"{marketing1} {mark}.\"\n",
    "\n",
    "\n",
    "    print(prompt)\n",
    "    image_base_64 = edit_image(open(f\"{output_dir}/image2.png\", \"rb\").read(), open(\"mask2.png\", \"rb\").read(), prompt)  \n",
    "\n",
    "\n",
    "    image_data = base64.b64decode(image_base_64)\n",
    "\n",
    "\n",
    "    \n",
    "    with open(m_image_path, \"wb\") as image_file:\n",
    "        image_file.write(image_data)\n",
    "    \n",
    "    display(Image(filename=m_image_path, width=300))\n",
    "\n",
    "    "
   ]
  }
 ],
 "metadata": {
  "kernelspec": {
   "display_name": "azure_rrag",
   "language": "python",
   "name": "python3"
  },
  "language_info": {
   "codemirror_mode": {
    "name": "ipython",
    "version": 3
   },
   "file_extension": ".py",
   "mimetype": "text/x-python",
   "name": "python",
   "nbconvert_exporter": "python",
   "pygments_lexer": "ipython3",
   "version": "3.11.11"
  }
 },
 "nbformat": 4,
 "nbformat_minor": 5
}
