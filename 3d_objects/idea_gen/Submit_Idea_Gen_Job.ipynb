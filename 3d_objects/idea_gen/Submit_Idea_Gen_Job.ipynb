{
 "cells": [
  {
   "cell_type": "code",
   "execution_count": null,
   "id": "3db2b657",
   "metadata": {},
   "outputs": [],
   "source": [
    "!az configure --defaults workspace=gpu-workspace-westus2 group=antonslutsky-rg"
   ]
  },
  {
   "cell_type": "code",
   "execution_count": null,
   "id": "880c8b77",
   "metadata": {},
   "outputs": [],
   "source": [
    "%%writefile idea_gen_job.yaml\n",
    "$schema: https://azuremlschemas.azureedge.net/latest/commandJob.schema.json\n",
    "code: ./src\n",
    "command: >-\n",
    "   python ./generate_idea.py \"${{inputs.prompt}}\" ${{outputs.output_idea}} \n",
    "environment_variables:\n",
    "  AZURE_OPENAI_API_KEY: \"6724480d8ac64e34a965a0df70369f6f\"\n",
    "  ENDPOINT_URL: \"https://ai-antonslutskyai898471136204.openai.azure.com/\"\n",
    "inputs:\n",
    "  prompt: \"Generate a one sentence that describes an idea for a whimsical, solid, one-piece 3D-printed object.\"\n",
    "outputs:\n",
    "  output_idea:\n",
    "    type: uri_file\n",
    "    mode: upload\n",
    "services:\n",
    "    my_vs_code:\n",
    "      type: vs_code\n",
    "      nodes: all \n",
    "    my_jupyter_lab:\n",
    "      type: jupyter_lab\n",
    "      nodes: all\n",
    "environment: azureml://registries/azureml/environments/ai-studio-dev/versions/9\n",
    "compute: azureml:cpu-cluster\n",
    "experiment_name: 3d_object_inference\n",
    "display_name: idea_gen_job\n",
    "description: idea_gen_job\n"
   ]
  },
  {
   "cell_type": "code",
   "execution_count": null,
   "id": "440350d3",
   "metadata": {},
   "outputs": [],
   "source": [
    "!az ml job create -f idea_gen_job.yaml"
   ]
  },
  {
   "cell_type": "code",
   "execution_count": 3,
   "id": "c1718eb3",
   "metadata": {},
   "outputs": [
    {
     "name": "stdout",
     "output_type": "stream",
     "text": [
      "Overwriting idea_gen_component.yaml\n"
     ]
    }
   ],
   "source": [
    "%%writefile idea_gen_component.yaml\n",
    "$schema: https://azuremlschemas.azureedge.net/latest/component.schema.json\n",
    "name: idea_gen_component\n",
    "code: ./src\n",
    "command: >-\n",
    "   python ./generate_idea.py \"${{inputs.prompt}}\" ${{outputs.output_idea}} \n",
    "environment_variables:\n",
    "  AZURE_OPENAI_API_KEY: \"6724480d8ac64e34a965a0df70369f6f\"\n",
    "  ENDPOINT_URL: \"https://ai-antonslutskyai898471136204.openai.azure.com/\"\n",
    "inputs:\n",
    "  prompt: \n",
    "    type: string\n",
    "outputs:\n",
    "  output_idea:\n",
    "    type: uri_file\n",
    "    mode: upload\n",
    "services:\n",
    "    my_vs_code:\n",
    "      type: vs_code\n",
    "      nodes: all \n",
    "    my_jupyter_lab:\n",
    "      type: jupyter_lab\n",
    "      nodes: all\n",
    "environment: azureml://registries/azureml/environments/ai-studio-dev/versions/9\n",
    "compute: azureml:cpu-cluster\n",
    "experiment_name: 3d_object_inference\n",
    "display_name: idea_gen_job\n",
    "description: idea_gen_job"
   ]
  },
  {
   "cell_type": "code",
   "execution_count": 4,
   "id": "1d5ae0bd",
   "metadata": {},
   "outputs": [
    {
     "name": "stdout",
     "output_type": "stream",
     "text": [
      "{\n",
      "  \"$schema\": \"https://azuremlschemas.azureedge.net/latest/component.schema.json\",\n",
      "  \"code\": \"azureml:/subscriptions/781b03e7-6eb7-4506-bab8-cf3a0d89b1d4/resourceGroups/antonslutsky-rg/providers/Microsoft.MachineLearningServices/workspaces/gpu-workspace-westus2/codes/c5fedf0a-48f0-42b4-89ac-1dd829388e0b/versions/1\",\n",
      "  \"command\": \"python ./generate_idea.py \\\"${{inputs.prompt}}\\\" ${{outputs.output_idea}} \",\n",
      "  \"creation_context\": {\n",
      "    \"created_at\": \"2025-05-03T20:40:28.256161+00:00\",\n",
      "    \"created_by\": \"Anton Slutsky\",\n",
      "    \"created_by_type\": \"User\",\n",
      "    \"last_modified_at\": \"2025-05-03T20:40:28.385016+00:00\",\n",
      "    \"last_modified_by\": \"Anton Slutsky\",\n",
      "    \"last_modified_by_type\": \"User\"\n",
      "  },\n",
      "  \"description\": \"idea_gen_job\",\n",
      "  \"display_name\": \"idea_gen_job\",\n",
      "  \"environment\": \"azureml://registries/azureml/environments/ai-studio-dev/versions/9\",\n",
      "  \"id\": \"azureml:/subscriptions/781b03e7-6eb7-4506-bab8-cf3a0d89b1d4/resourceGroups/antonslutsky-rg/providers/Microsoft.MachineLearningServices/workspaces/gpu-workspace-westus2/components/idea_gen_component/versions/2025-05-03-20-40-26-5087287\",\n",
      "  \"inputs\": {\n",
      "    \"prompt\": {\n",
      "      \"optional\": false,\n",
      "      \"type\": \"string\"\n",
      "    }\n",
      "  },\n",
      "  \"is_deterministic\": true,\n",
      "  \"name\": \"idea_gen_component\",\n",
      "  \"outputs\": {\n",
      "    \"output_idea\": {\n",
      "      \"type\": \"uri_file\"\n",
      "    }\n",
      "  },\n",
      "  \"resourceGroup\": \"antonslutsky-rg\",\n",
      "  \"resources\": {\n",
      "    \"instance_count\": 1\n",
      "  },\n",
      "  \"type\": \"command\",\n",
      "  \"version\": \"2025-05-03-20-40-26-5087287\"\n",
      "}\n"
     ]
    },
    {
     "name": "stderr",
     "output_type": "stream",
     "text": [
      "\n",
      "Uploading src (0.0 MBs):   0%|          | 0/1305 [00:00<?, ?it/s]\n",
      "Uploading src (0.0 MBs): 100%|##########| 1305/1305 [00:00<00:00, 16604.48it/s]\n",
      "\n",
      "\n"
     ]
    }
   ],
   "source": [
    "!az ml component create -f idea_gen_component.yaml"
   ]
  },
  {
   "cell_type": "code",
   "execution_count": null,
   "id": "fd35a5fc",
   "metadata": {},
   "outputs": [],
   "source": [
    "import aspose.threed as a3d\n",
    "\n",
    "glb_path = \"C:\\\\Users\\\\antonslutsky\\\\Downloads\\\\sample (6).glb\"\n",
    "\n",
    "scene = a3d.Scene.from_file(glb_path)\n",
    "scene.save(\"Output.stl\")"
   ]
  }
 ],
 "metadata": {
  "kernelspec": {
   "display_name": "many_models",
   "language": "python",
   "name": "python3"
  },
  "language_info": {
   "codemirror_mode": {
    "name": "ipython",
    "version": 3
   },
   "file_extension": ".py",
   "mimetype": "text/x-python",
   "name": "python",
   "nbconvert_exporter": "python",
   "pygments_lexer": "ipython3",
   "version": "3.7.6"
  }
 },
 "nbformat": 4,
 "nbformat_minor": 5
}
