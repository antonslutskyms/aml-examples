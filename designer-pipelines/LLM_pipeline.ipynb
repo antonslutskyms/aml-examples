{
 "cells": [
  {
   "cell_type": "code",
   "execution_count": 71,
   "metadata": {},
   "outputs": [
    {
     "name": "stdout",
     "output_type": "stream",
     "text": [
      "{\n",
      "  \"$schema\": \"https://azuremlschemas.azureedge.net/latest/commandJob.schema.json\",\n",
      "  \"code\": \"azureml:/subscriptions/781b03e7-6eb7-4506-bab8-cf3a0d89b1d4/resourceGroups/antonslutsky-rg/providers/Microsoft.MachineLearningServices/workspaces/gpu-workspace/codes/cc8ac56c-780b-404a-b752-bdab79a580fc/versions/1\",\n",
      "  \"command\": \"python prompt_extractor.py  --prompts ${{inputs.prompts}} --output ${{outputs.output}} \",\n",
      "  \"creation_context\": {\n",
      "    \"created_at\": \"2023-11-23T14:29:10.931785+00:00\",\n",
      "    \"created_by\": \"Anton Slutsky\",\n",
      "    \"created_by_type\": \"User\",\n",
      "    \"last_modified_at\": \"2023-11-23T14:29:10.998522+00:00\",\n",
      "    \"last_modified_by\": \"Anton Slutsky\",\n",
      "    \"last_modified_by_type\": \"User\"\n",
      "  },\n",
      "  \"description\": \"Extract prompts from the input data\",\n",
      "  \"display_name\": \"prompt_extractor\",\n",
      "  \"environment\": \"azureml:/subscriptions/781b03e7-6eb7-4506-bab8-cf3a0d89b1d4/resourceGroups/antonslutsky-rg/providers/Microsoft.MachineLearningServices/workspaces/gpu-workspace/environments/text-to-image-pipeline-env/versions/1\",\n",
      "  \"id\": \"azureml:/subscriptions/781b03e7-6eb7-4506-bab8-cf3a0d89b1d4/resourceGroups/antonslutsky-rg/providers/Microsoft.MachineLearningServices/workspaces/gpu-workspace/components/prompt_extractor/versions/2023-11-23-14-29-08-7779987\",\n",
      "  \"inputs\": {\n",
      "    \"prompts\": {\n",
      "      \"optional\": false,\n",
      "      \"type\": \"uri_file\"\n",
      "    }\n",
      "  },\n",
      "  \"is_deterministic\": true,\n",
      "  \"name\": \"prompt_extractor\",\n",
      "  \"outputs\": {\n",
      "    \"output\": {\n",
      "      \"type\": \"uri_folder\"\n",
      "    }\n",
      "  },\n",
      "  \"resourceGroup\": \"antonslutsky-rg\",\n",
      "  \"resources\": {\n",
      "    \"instance_count\": 1\n",
      "  },\n",
      "  \"type\": \"command\",\n",
      "  \"version\": \"2023-11-23-14-29-08-7779987\"\n",
      "}\n"
     ]
    }
   ],
   "source": [
    "!az ml component create -f components/prompt_extractor.yml"
   ]
  },
  {
   "cell_type": "code",
   "execution_count": 175,
   "metadata": {},
   "outputs": [
    {
     "name": "stdout",
     "output_type": "stream",
     "text": [
      "Overwriting components/conda.yml\n"
     ]
    }
   ],
   "source": [
    "%%writefile components/conda.yml\n",
    "name: text-to-image-pipeline-env\n",
    "channels:\n",
    "  - conda-forge\n",
    "dependencies:\n",
    "  - python=3.10\n",
    "  - pip\n",
    "  - pip:\n",
    "    - azureml-evaluate-mlflow==0.0.35\n",
    "    - inference-schema[numpy-support]==1.3.0\n",
    "    - pyarrow\n",
    "    - torch\n"
   ]
  },
  {
   "cell_type": "code",
   "execution_count": 1,
   "metadata": {},
   "outputs": [
    {
     "name": "stdout",
     "output_type": "stream",
     "text": [
      "Overwriting components/text-to-image-pipeline-env.yml\n"
     ]
    }
   ],
   "source": [
    "%%writefile components/text-to-image-pipeline-env.yml\n",
    "$schema: https://azuremlschemas.azureedge.net/latest/environment.schema.json\n",
    "name: text-to-image-pipeline-cuda-env\n",
    "image: mcr.microsoft.com/azureml/openmpi4.1.0-cuda11.8-cudnn8-ubuntu22.04\n",
    "conda_file: conda.yml\n",
    "description: Environment created from a Docker image plus Conda environment."
   ]
  },
  {
   "cell_type": "code",
   "execution_count": 2,
   "metadata": {},
   "outputs": [
    {
     "name": "stdout",
     "output_type": "stream",
     "text": [
      "{\n",
      "  \"conda_file\": {\n",
      "    \"channels\": [\n",
      "      \"conda-forge\"\n",
      "    ],\n",
      "    \"dependencies\": [\n",
      "      \"python=3.10\",\n",
      "      \"pip\",\n",
      "      {\n",
      "        \"pip\": [\n",
      "          \"azureml-evaluate-mlflow==0.0.35\",\n",
      "          \"inference-schema[numpy-support]==1.3.0\",\n",
      "          \"pyarrow\",\n",
      "          \"torch\"\n",
      "        ]\n",
      "      }\n",
      "    ],\n",
      "    \"name\": \"text-to-image-pipeline-env\"\n",
      "  },\n",
      "  \"creation_context\": {\n",
      "    \"created_at\": \"2023-11-25T05:31:39.421519+00:00\",\n",
      "    \"created_by\": \"Anton Slutsky\",\n",
      "    \"created_by_type\": \"User\",\n",
      "    \"last_modified_at\": \"2023-11-25T05:31:39.421519+00:00\",\n",
      "    \"last_modified_by\": \"Anton Slutsky\",\n",
      "    \"last_modified_by_type\": \"User\"\n",
      "  },\n",
      "  \"description\": \"Environment created from a Docker image plus Conda environment.\",\n",
      "  \"id\": \"azureml:/subscriptions/781b03e7-6eb7-4506-bab8-cf3a0d89b1d4/resourceGroups/antonslutsky-rg/providers/Microsoft.MachineLearningServices/workspaces/gpu-workspace/environments/text-to-image-pipeline-cuda-env/versions/1\",\n",
      "  \"image\": \"mcr.microsoft.com/azureml/openmpi4.1.0-cuda11.8-cudnn8-ubuntu22.04\",\n",
      "  \"name\": \"text-to-image-pipeline-cuda-env\",\n",
      "  \"os_type\": \"linux\",\n",
      "  \"resourceGroup\": \"antonslutsky-rg\",\n",
      "  \"tags\": {},\n",
      "  \"version\": \"1\"\n",
      "}\n"
     ]
    }
   ],
   "source": [
    "!az ml environment create --file components/text-to-image-pipeline-env.yml"
   ]
  },
  {
   "cell_type": "code",
   "execution_count": 65,
   "metadata": {},
   "outputs": [
    {
     "name": "stdout",
     "output_type": "stream",
     "text": [
      "Overwriting components/model_scorer.yml\n"
     ]
    }
   ],
   "source": [
    "%%writefile components/model_scorer.yml\n",
    "$schema: https://azuremlschemas.azureedge.net/latest/commandJob.schema.json\n",
    "name: model_scorer\n",
    "code: .\n",
    "command: >-\n",
    "  python model_scorer.py \n",
    "  --mlflow_model ${{inputs.mlflow_model}}\n",
    "  --prompts ${{inputs.prompts}}\n",
    "  --task_def ${{inputs.task_def}}\n",
    "  --predictions ${{outputs.predictions}}\n",
    "inputs:\n",
    "  mlflow_model: \n",
    "    type: uri_folder\n",
    "  prompts: \n",
    "    type: uri_file\n",
    "  task_def:\n",
    "    type: uri_file\n",
    "outputs:\n",
    "  predictions:\n",
    "    type: uri_file\n",
    "environment: azureml:custom-env-1@latest\n",
    "compute: azureml:inference-compute-4a\n",
    "display_name: model_scorer\n",
    "experiment_name: text-to-image-pipeline\n",
    "description: Score an MLFlow model"
   ]
  },
  {
   "cell_type": "code",
   "execution_count": 66,
   "metadata": {},
   "outputs": [
    {
     "name": "stdout",
     "output_type": "stream",
     "text": [
      "Overwriting components/model_scorer.py\n"
     ]
    }
   ],
   "source": [
    "%%writefile components/model_scorer.py\n",
    "\n",
    "# Read all the csvs in the data folder into a pandas dataframe\n",
    "import glob\n",
    "import os\n",
    "import pandas as pd\n",
    "import argparse\n",
    "import mlflow\n",
    "from pathlib import Path\n",
    "import torch\n",
    "\n",
    "def main():\n",
    "    \"\"\"Main function of the script.\"\"\"\n",
    "\n",
    "    # input and output arguments\n",
    "    parser = argparse.ArgumentParser()\n",
    "    parser.add_argument(\"--mlflow_model\", type=str, help=\"mlflow model\")\n",
    "    parser.add_argument(\"--prompts\", type=str, help=\"path to prompts input\")\n",
    "    parser.add_argument(\"--task_def\", type=str, help=\"path to task instructions\")\n",
    "    parser.add_argument(\"--predictions\", type=str, help=\"path to predictions output\")\n",
    "    args = parser.parse_args()\n",
    "\n",
    "    # Start Logging\n",
    "    mlflow.start_run()\n",
    "\n",
    "    task_def = open(args.task_def).read()\n",
    "\n",
    "    print(f\"Task def: {task_def}\")\n",
    "\n",
    "    print(f\"Got prompts: {args.prompts}\")\n",
    "\n",
    "    batch_df = pd.read_parquet(args.prompts, engine='pyarrow')\n",
    "\n",
    "    print(\"Loaded columns: \", batch_df.columns)\n",
    "\n",
    "    batch_df = batch_df[[\"prompt\"]]\n",
    "\n",
    "    batch_df['prompt'] = task_def + batch_df['prompt'].astype(str)\n",
    "\n",
    "    batch_df = batch_df.head()\n",
    "\n",
    "    print(\"Head:\")\n",
    "\n",
    "    print(batch_df.head())\n",
    "\n",
    "    for i in range(len(batch_df)):\n",
    "        print(f\"Prompt {i}: {batch_df['prompt'][i]}\")\n",
    "\n",
    "    print(f\"{args.mlflow_model}\")\n",
    "\n",
    "\n",
    "    model_contents = os.listdir(args.mlflow_model)\n",
    "    print(f\"{model_contents}\")\n",
    "\n",
    "    if \"MLmodel\" in model_contents:\n",
    "        print(\"MLmodel found\")\n",
    "\n",
    "        print(f\"{open(f'{args.mlflow_model}/MLmodel').read()}\")\n",
    "\n",
    "    \n",
    "\n",
    "    model = mlflow.pyfunc.load_model(args.mlflow_model)\n",
    "    \n",
    "    print(f\"Loaded model object: {model}\")\n",
    "    \n",
    "    predictions = model.predict(batch_df)\n",
    "\n",
    "    print(f\"Predictions DF: {predictions.columns}\")\n",
    "\n",
    "    print(f\"Predictions: {predictions.head()}\")\n",
    "\n",
    "    print(f\"Predictions[0]: {predictions[0]}\")\n",
    "\n",
    "\n",
    "    print(f\"Predictions[0][0]:\\n----------------------------------------\\n{predictions[0][0]}\\n----------------------------------------\\n\")\n",
    "\n",
    "    for i in range(len(predictions[0])):\n",
    "        print(\"********************************************************************\")\n",
    "        print(f\"Prediction {i}: {predictions[0][i]}\")\n",
    "        print(\"********************************************************************\")\n",
    "\n",
    "    predictions_df = pd.DataFrame(predictions[0])\n",
    "\n",
    "    predictions_df.to_csv(args.predictions, index=False, header=False)\n",
    "    \n",
    "    mlflow.end_run()\n",
    "\n",
    "if __name__ == \"__main__\":\n",
    "    main()"
   ]
  },
  {
   "cell_type": "code",
   "execution_count": 67,
   "metadata": {},
   "outputs": [
    {
     "name": "stdout",
     "output_type": "stream",
     "text": [
      "{"
     ]
    },
    {
     "name": "stderr",
     "output_type": "stream",
     "text": [
      "\n",
      "Uploading components (0.01 MBs):   0%|          | 0/5150 [00:00<?, ?it/s]\n",
      "Uploading components (0.01 MBs):  60%|######    | 3094/5150 [00:00<00:00, 7788.21it/s]\n",
      "Uploading components (0.01 MBs): 100%|##########| 5150/5150 [00:00<00:00, 12554.91it/s]\n",
      "\n",
      "\n"
     ]
    },
    {
     "name": "stdout",
     "output_type": "stream",
     "text": [
      "\n",
      "  \"$schema\": \"https://azuremlschemas.azureedge.net/latest/commandJob.schema.json\",\n",
      "  \"code\": \"azureml:/subscriptions/781b03e7-6eb7-4506-bab8-cf3a0d89b1d4/resourceGroups/antonslutsky-rg/providers/Microsoft.MachineLearningServices/workspaces/gpu-workspace/codes/f4b1eafa-4784-47d9-be57-80a06573c5e4/versions/1\",\n",
      "  \"command\": \"python model_scorer.py  --mlflow_model ${{inputs.mlflow_model}} --prompts ${{inputs.prompts}} --task_def ${{inputs.task_def}} --predictions ${{outputs.predictions}}\",\n",
      "  \"creation_context\": {\n",
      "    \"created_at\": \"2023-11-27T13:28:51.326628+00:00\",\n",
      "    \"created_by\": \"Anton Slutsky\",\n",
      "    \"created_by_type\": \"User\",\n",
      "    \"last_modified_at\": \"2023-11-27T13:28:51.416359+00:00\",\n",
      "    \"last_modified_by\": \"Anton Slutsky\",\n",
      "    \"last_modified_by_type\": \"User\"\n",
      "  },\n",
      "  \"description\": \"Score an MLFlow model\",\n",
      "  \"display_name\": \"model_scorer\",\n",
      "  \"environment\": \"azureml:/subscriptions/781b03e7-6eb7-4506-bab8-cf3a0d89b1d4/resourceGroups/antonslutsky-rg/providers/Microsoft.MachineLearningServices/workspaces/gpu-workspace/environments/custom-env-1/versions/1\",\n",
      "  \"id\": \"azureml:/subscriptions/781b03e7-6eb7-4506-bab8-cf3a0d89b1d4/resourceGroups/antonslutsky-rg/providers/Microsoft.MachineLearningServices/workspaces/gpu-workspace/components/model_scorer/versions/2023-11-27-13-28-50-0265814\",\n",
      "  \"inputs\": {\n",
      "    \"mlflow_model\": {\n",
      "      \"optional\": false,\n",
      "      \"type\": \"uri_folder\"\n",
      "    },\n",
      "    \"prompts\": {\n",
      "      \"optional\": false,\n",
      "      \"type\": \"uri_file\"\n",
      "    },\n",
      "    \"task_def\": {\n",
      "      \"optional\": false,\n",
      "      \"type\": \"uri_file\"\n",
      "    }\n",
      "  },\n",
      "  \"is_deterministic\": true,\n",
      "  \"name\": \"model_scorer\",\n",
      "  \"outputs\": {\n",
      "    \"predictions\": {\n",
      "      \"type\": \"uri_file\"\n",
      "    }\n",
      "  },\n",
      "  \"resourceGroup\": \"antonslutsky-rg\",\n",
      "  \"resources\": {\n",
      "    \"instance_count\": 1\n",
      "  },\n",
      "  \"type\": \"command\",\n",
      "  \"version\": \"2023-11-27-13-28-50-0265814\"\n",
      "}\n"
     ]
    }
   ],
   "source": [
    "!az ml component create -f components/model_scorer.yml"
   ]
  }
 ],
 "metadata": {
  "kernelspec": {
   "display_name": "Python 3",
   "language": "python",
   "name": "python3"
  },
  "language_info": {
   "codemirror_mode": {
    "name": "ipython",
    "version": 3
   },
   "file_extension": ".py",
   "mimetype": "text/x-python",
   "name": "python",
   "nbconvert_exporter": "python",
   "pygments_lexer": "ipython3",
   "version": "3.11.5"
  }
 },
 "nbformat": 4,
 "nbformat_minor": 2
}
