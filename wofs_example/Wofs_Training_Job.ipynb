{
 "cells": [
  {
   "cell_type": "markdown",
   "metadata": {},
   "source": [
    "### Step 1: Setup local configuration\n",
    "\n",
    "Configure workspace and the resource group"
   ]
  },
  {
   "cell_type": "code",
   "execution_count": null,
   "metadata": {},
   "outputs": [],
   "source": [
    "!az configure --defaults workspace=<Your workspace> group=<Your resource group>"
   ]
  },
  {
   "cell_type": "markdown",
   "metadata": {},
   "source": [
    "### Step 2: Create AML environment to capture WOFS python dependencies"
   ]
  },
  {
   "cell_type": "markdown",
   "metadata": {},
   "source": [
    "#### Generate environment configuration yaml"
   ]
  },
  {
   "cell_type": "code",
   "execution_count": null,
   "metadata": {},
   "outputs": [],
   "source": [
    "%%writefile wofs_docker_env.yaml\n",
    "$schema: https://azuremlschemas.azureedge.net/latest/environment.schema.json\n",
    "name: wofs_docker_env/\n",
    "build:\n",
    "  path: wofs_docker_env"
   ]
  },
  {
   "cell_type": "markdown",
   "metadata": {},
   "source": [
    "#### Create the environment using CLI"
   ]
  },
  {
   "cell_type": "code",
   "execution_count": null,
   "metadata": {},
   "outputs": [],
   "source": [
    "!az ml environment create --file wofs_docker_env.yaml"
   ]
  },
  {
   "cell_type": "markdown",
   "metadata": {},
   "source": [
    "### Step 3: Start the training job"
   ]
  },
  {
   "cell_type": "code",
   "execution_count": null,
   "metadata": {},
   "outputs": [],
   "source": [
    "%%writefile wofs_training_job.yaml\n",
    "$schema: https://azuremlschemas.azureedge.net/latest/commandJob.schema.json\n",
    "code: ./src\n",
    "command: >-\n",
    "   ./train_wofs.sh ${{inputs.zarr}} ${{inputs.norm_stats}} ${{outputs.output_dir}}; \n",
    "inputs:\n",
    "  zarr: \n",
    "    type: uri_folder\n",
    "    path: azureml:azureml_unzip_sampled_output_data_output_dir:1\n",
    "  norm_stats:\n",
    "    type: uri_folder\n",
    "    path: azureml:wofs_norm_stats:1\n",
    "outputs:\n",
    "  output_dir:\n",
    "    type: uri_folder\n",
    "    mode: rw_mount\n",
    "services:\n",
    "    my_vs_code:\n",
    "      type: vs_code\n",
    "      nodes: all \n",
    "    my_jupyter_lab:\n",
    "      type: jupyter_lab\n",
    "      nodes: all\n",
    "environment: azureml:wofs_docker_env@latest\n",
    "compute: azureml:Standard-NC48ads-A100-v4\n",
    "experiment_name: wofs\n",
    "display_name: wofs_train_model\n",
    "description: wofs_train_model\n"
   ]
  },
  {
   "cell_type": "code",
   "execution_count": null,
   "metadata": {},
   "outputs": [],
   "source": [
    "!az ml job create -f wofs_training_job.yaml"
   ]
  }
 ],
 "metadata": {
  "kernelspec": {
   "display_name": "many_models",
   "language": "python",
   "name": "python3"
  },
  "language_info": {
   "codemirror_mode": {
    "name": "ipython",
    "version": 3
   },
   "file_extension": ".py",
   "mimetype": "text/x-python",
   "name": "python",
   "nbconvert_exporter": "python",
   "pygments_lexer": "ipython3",
   "version": "3.7.6"
  }
 },
 "nbformat": 4,
 "nbformat_minor": 2
}
