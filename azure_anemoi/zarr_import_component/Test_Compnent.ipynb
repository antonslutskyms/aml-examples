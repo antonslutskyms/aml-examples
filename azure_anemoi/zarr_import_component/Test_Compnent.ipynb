{
 "cells": [
  {
   "cell_type": "code",
   "execution_count": 2,
   "metadata": {},
   "outputs": [],
   "source": [
    "!az configure --defaults workspace=graphcast-workspace group=antonslutsky-rg"
   ]
  },
  {
   "cell_type": "code",
   "execution_count": 3,
   "metadata": {},
   "outputs": [
    {
     "name": "stdout",
     "output_type": "stream",
     "text": [
      "{\n",
      "  \"$schema\": \"https://azuremlschemas.azureedge.net/latest/commandComponent.schema.json\",\n",
      "  \"code\": \"azureml:/subscriptions/781b03e7-6eb7-4506-bab8-cf3a0d89b1d4/resourceGroups/antonslutsky-rg/providers/Microsoft.MachineLearningServices/workspaces/graphcast-workspace/codes/5de65b11-7b1b-42de-b143-8152b2c59c17/versions/1\",\n",
      "  \"command\": \"./zarr_import_gutil.sh ${{inputs.source}} ${{outputs.output_dir}};\",\n",
      "  \"creation_context\": {\n",
      "    \"created_at\": \"2025-03-29T17:49:28.098017+00:00\",\n",
      "    \"created_by\": \"Anton Slutsky\",\n",
      "    \"created_by_type\": \"User\",\n",
      "    \"last_modified_at\": \"2025-03-29T17:49:28.272039+00:00\",\n",
      "    \"last_modified_by\": \"Anton Slutsky\",\n",
      "    \"last_modified_by_type\": \"User\"\n",
      "  },\n",
      "  \"description\": \"Zarr_Import_Component\",\n",
      "  \"environment\": \"azureml:/subscriptions/781b03e7-6eb7-4506-bab8-cf3a0d89b1d4/resourceGroups/antonslutsky-rg/providers/Microsoft.MachineLearningServices/workspaces/graphcast-workspace/environments/CliV2AnonymousEnvironment/versions/c38f012135b0c4be59adf00c92091db5\",\n",
      "  \"id\": \"azureml:/subscriptions/781b03e7-6eb7-4506-bab8-cf3a0d89b1d4/resourceGroups/antonslutsky-rg/providers/Microsoft.MachineLearningServices/workspaces/graphcast-workspace/components/zarr_import_component/versions/2025-03-29-17-49-26-0915362\",\n",
      "  \"inputs\": {\n",
      "    \"source\": {\n",
      "      \"optional\": false,\n",
      "      \"type\": \"string\"\n",
      "    }\n",
      "  },\n",
      "  \"is_deterministic\": true,\n",
      "  \"name\": \"zarr_import_component\",\n",
      "  \"outputs\": {\n",
      "    \"output_dir\": {\n",
      "      \"type\": \"uri_folder\"\n",
      "    }\n",
      "  },\n",
      "  \"resourceGroup\": \"antonslutsky-rg\",\n",
      "  \"resources\": {\n",
      "    \"instance_count\": 1\n",
      "  },\n",
      "  \"type\": \"command\",\n",
      "  \"version\": \"2025-03-29-17-49-26-0915362\"\n",
      "}\n"
     ]
    },
    {
     "name": "stderr",
     "output_type": "stream",
     "text": [
      "\n",
      "Uploading src (0.0 MBs):   0%|          | 0/843 [00:00<?, ?it/s]\n",
      "Uploading src (0.0 MBs): 100%|##########| 843/843 [00:00<00:00, 2238.21it/s]\n",
      "Uploading src (0.0 MBs): 100%|##########| 843/843 [00:00<00:00, 2229.64it/s]\n",
      "\n",
      "\n"
     ]
    }
   ],
   "source": [
    "!az ml component create -f zarr_import_component.yaml"
   ]
  },
  {
   "cell_type": "code",
   "execution_count": null,
   "metadata": {},
   "outputs": [],
   "source": [
    "!az ml job create -f zarr_import_component.yaml"
   ]
  }
 ],
 "metadata": {
  "kernelspec": {
   "display_name": "many_models",
   "language": "python",
   "name": "python3"
  },
  "language_info": {
   "codemirror_mode": {
    "name": "ipython",
    "version": 3
   },
   "file_extension": ".py",
   "mimetype": "text/x-python",
   "name": "python",
   "nbconvert_exporter": "python",
   "pygments_lexer": "ipython3",
   "version": "3.7.6"
  }
 },
 "nbformat": 4,
 "nbformat_minor": 2
}
